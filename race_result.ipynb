{
 "cells": [
  {
   "cell_type": "markdown",
   "id": "a4c28082",
   "metadata": {},
   "source": [
    "### **2025 Belgian Grand Prix Race Results**"
   ]
  },
  {
   "cell_type": "markdown",
   "id": "9d9fcfb6",
   "metadata": {},
   "source": [
    "**Import libraries**"
   ]
  },
  {
   "cell_type": "code",
   "execution_count": 352,
   "id": "2e667c70",
   "metadata": {},
   "outputs": [],
   "source": [
    "import pandas as pd\n",
    "import fastf1\n",
    "#from datetime import timedelta\n",
    "#from matplotlib import table"
   ]
  },
  {
   "cell_type": "markdown",
   "id": "a5f74d58",
   "metadata": {},
   "source": [
    "**Create Cache**"
   ]
  },
  {
   "cell_type": "code",
   "execution_count": 353,
   "id": "7c20ee34",
   "metadata": {},
   "outputs": [],
   "source": [
    "fastf1.Cache.enable_cache('cache')  # 'cache' is the folder name"
   ]
  },
  {
   "cell_type": "markdown",
   "id": "1ff964f3",
   "metadata": {},
   "source": [
    "**Create session for 2025 Belgian Grand Prix Race Result**"
   ]
  },
  {
   "cell_type": "code",
   "execution_count": 354,
   "id": "b5e30130",
   "metadata": {},
   "outputs": [],
   "source": [
    "session = fastf1.get_session(2025, 'Belgian', 'R')"
   ]
  },
  {
   "cell_type": "code",
   "execution_count": 355,
   "id": "e4d3639b",
   "metadata": {},
   "outputs": [
    {
     "name": "stderr",
     "output_type": "stream",
     "text": [
      "core           INFO \tLoading data for Belgian Grand Prix - Race [v3.6.0]\n",
      "req            INFO \tUsing cached data for session_info\n",
      "req            INFO \tUsing cached data for driver_info\n",
      "req            INFO \tUsing cached data for session_status_data\n",
      "req            INFO \tUsing cached data for lap_count\n",
      "req            INFO \tUsing cached data for track_status_data\n",
      "req            INFO \tUsing cached data for _extended_timing_data\n",
      "req            INFO \tUsing cached data for timing_app_data\n",
      "core           INFO \tProcessing timing data...\n",
      "core        WARNING \tFixed incorrect tyre stint information for driver '81'\n",
      "core        WARNING \tFixed incorrect tyre stint information for driver '4'\n",
      "core        WARNING \tFixed incorrect tyre stint information for driver '16'\n",
      "core        WARNING \tFixed incorrect tyre stint information for driver '1'\n",
      "core        WARNING \tFixed incorrect tyre stint information for driver '63'\n",
      "core        WARNING \tFixed incorrect tyre stint information for driver '23'\n",
      "core        WARNING \tFixed incorrect tyre stint information for driver '44'\n",
      "core        WARNING \tFixed incorrect tyre stint information for driver '30'\n",
      "core        WARNING \tFixed incorrect tyre stint information for driver '5'\n",
      "core        WARNING \tFixed incorrect tyre stint information for driver '10'\n",
      "core        WARNING \tFixed incorrect tyre stint information for driver '87'\n",
      "core        WARNING \tFixed incorrect tyre stint information for driver '27'\n",
      "core        WARNING \tFixed incorrect tyre stint information for driver '22'\n",
      "core        WARNING \tFixed incorrect tyre stint information for driver '18'\n",
      "core        WARNING \tFixed incorrect tyre stint information for driver '31'\n",
      "core        WARNING \tFixed incorrect tyre stint information for driver '12'\n",
      "core        WARNING \tFixed incorrect tyre stint information for driver '14'\n",
      "core        WARNING \tFixed incorrect tyre stint information for driver '55'\n",
      "core        WARNING \tFixed incorrect tyre stint information for driver '43'\n",
      "core        WARNING \tFixed incorrect tyre stint information for driver '6'\n",
      "req            INFO \tUsing cached data for car_data\n",
      "req            INFO \tUsing cached data for position_data\n",
      "req            INFO \tUsing cached data for weather_data\n",
      "req            INFO \tUsing cached data for race_control_messages\n",
      "core           INFO \tFinished loading data for 20 drivers: ['81', '4', '16', '1', '63', '23', '44', '30', '5', '10', '87', '27', '22', '18', '31', '12', '14', '55', '43', '6']\n"
     ]
    }
   ],
   "source": [
    "session.load()"
   ]
  },
  {
   "cell_type": "markdown",
   "id": "ecc469fa",
   "metadata": {},
   "source": [
    "**Generate the result**"
   ]
  },
  {
   "cell_type": "code",
   "execution_count": 356,
   "id": "01b832ba",
   "metadata": {},
   "outputs": [],
   "source": [
    "result = session.results"
   ]
  },
  {
   "cell_type": "markdown",
   "id": "d78f8100",
   "metadata": {},
   "source": [
    "**Get the columns**"
   ]
  },
  {
   "cell_type": "code",
   "execution_count": 357,
   "id": "9546e1bc",
   "metadata": {},
   "outputs": [
    {
     "data": {
      "text/plain": [
       "Index(['DriverNumber', 'BroadcastName', 'Abbreviation', 'DriverId', 'TeamName',\n",
       "       'TeamColor', 'TeamId', 'FirstName', 'LastName', 'FullName',\n",
       "       'HeadshotUrl', 'CountryCode', 'Position', 'ClassifiedPosition',\n",
       "       'GridPosition', 'Q1', 'Q2', 'Q3', 'Time', 'Status', 'Points', 'Laps'],\n",
       "      dtype='object')"
      ]
     },
     "execution_count": 357,
     "metadata": {},
     "output_type": "execute_result"
    }
   ],
   "source": [
    "result.columns"
   ]
  },
  {
   "cell_type": "markdown",
   "id": "072f402c",
   "metadata": {},
   "source": [
    "**Table Info**"
   ]
  },
  {
   "cell_type": "code",
   "execution_count": 358,
   "id": "ff50a41b",
   "metadata": {},
   "outputs": [
    {
     "data": {
      "text/plain": [
       "<bound method DataFrame.info of    DriverNumber BroadcastName Abbreviation        DriverId         TeamName  \\\n",
       "81           81     O PIASTRI          PIA         piastri          McLaren   \n",
       "4             4      L NORRIS          NOR          norris          McLaren   \n",
       "16           16     C LECLERC          LEC         leclerc          Ferrari   \n",
       "1             1  M VERSTAPPEN          VER  max_verstappen  Red Bull Racing   \n",
       "63           63     G RUSSELL          RUS         russell         Mercedes   \n",
       "23           23       A ALBON          ALB           albon         Williams   \n",
       "44           44    L HAMILTON          HAM        hamilton          Ferrari   \n",
       "30           30      L LAWSON          LAW          lawson     Racing Bulls   \n",
       "5             5   G BORTOLETO          BOR       bortoleto      Kick Sauber   \n",
       "10           10       P GASLY          GAS           gasly           Alpine   \n",
       "87           87     O BEARMAN          BEA         bearman     Haas F1 Team   \n",
       "27           27  N HULKENBERG          HUL      hulkenberg      Kick Sauber   \n",
       "22           22     Y TSUNODA          TSU         tsunoda  Red Bull Racing   \n",
       "18           18      L STROLL          STR          stroll     Aston Martin   \n",
       "31           31        E OCON          OCO            ocon     Haas F1 Team   \n",
       "12           12   K ANTONELLI          ANT       antonelli         Mercedes   \n",
       "14           14      F ALONSO          ALO          alonso     Aston Martin   \n",
       "55           55       C SAINZ          SAI           sainz         Williams   \n",
       "43           43   F COLAPINTO          COL       colapinto           Alpine   \n",
       "6             6      I HADJAR          HAD          hadjar     Racing Bulls   \n",
       "\n",
       "   TeamColor        TeamId  FirstName    LastName           FullName  ...  \\\n",
       "81    F47600       mclaren      Oscar     Piastri      Oscar Piastri  ...   \n",
       "4     F47600       mclaren      Lando      Norris       Lando Norris  ...   \n",
       "16    ED1131       ferrari    Charles     Leclerc    Charles Leclerc  ...   \n",
       "1     4781D7      red_bull        Max  Verstappen     Max Verstappen  ...   \n",
       "63    00D7B6      mercedes     George     Russell     George Russell  ...   \n",
       "23    1868DB      williams  Alexander       Albon    Alexander Albon  ...   \n",
       "44    ED1131       ferrari      Lewis    Hamilton     Lewis Hamilton  ...   \n",
       "30    6C98FF            rb       Liam      Lawson        Liam Lawson  ...   \n",
       "5     01C00E        sauber    Gabriel   Bortoleto  Gabriel Bortoleto  ...   \n",
       "10    00A1E8        alpine     Pierre       Gasly       Pierre Gasly  ...   \n",
       "87    9C9FA2          haas     Oliver     Bearman     Oliver Bearman  ...   \n",
       "27    01C00E        sauber       Nico  Hulkenberg    Nico Hulkenberg  ...   \n",
       "22    4781D7      red_bull       Yuki     Tsunoda       Yuki Tsunoda  ...   \n",
       "18    229971  aston_martin      Lance      Stroll       Lance Stroll  ...   \n",
       "31    9C9FA2          haas    Esteban        Ocon       Esteban Ocon  ...   \n",
       "12    00D7B6      mercedes       Kimi   Antonelli     Kimi Antonelli  ...   \n",
       "14    229971  aston_martin   Fernando      Alonso    Fernando Alonso  ...   \n",
       "55    1868DB      williams     Carlos       Sainz       Carlos Sainz  ...   \n",
       "43    00A1E8        alpine     Franco   Colapinto   Franco Colapinto  ...   \n",
       "6     6C98FF            rb      Isack      Hadjar       Isack Hadjar  ...   \n",
       "\n",
       "   Position ClassifiedPosition  GridPosition  Q1  Q2  Q3  \\\n",
       "81      1.0                  1           2.0 NaT NaT NaT   \n",
       "4       2.0                  2           1.0 NaT NaT NaT   \n",
       "16      3.0                  3           3.0 NaT NaT NaT   \n",
       "1       4.0                  4           4.0 NaT NaT NaT   \n",
       "63      5.0                  5           6.0 NaT NaT NaT   \n",
       "23      6.0                  6           5.0 NaT NaT NaT   \n",
       "44      7.0                  7          18.0 NaT NaT NaT   \n",
       "30      8.0                  8           9.0 NaT NaT NaT   \n",
       "5       9.0                  9          10.0 NaT NaT NaT   \n",
       "10     10.0                 10          13.0 NaT NaT NaT   \n",
       "87     11.0                 11          12.0 NaT NaT NaT   \n",
       "27     12.0                 12          14.0 NaT NaT NaT   \n",
       "22     13.0                 13           7.0 NaT NaT NaT   \n",
       "18     14.0                 14          16.0 NaT NaT NaT   \n",
       "31     15.0                 15          11.0 NaT NaT NaT   \n",
       "12     16.0                 16          19.0 NaT NaT NaT   \n",
       "14     17.0                 17          20.0 NaT NaT NaT   \n",
       "55     18.0                 18          17.0 NaT NaT NaT   \n",
       "43     19.0                 19          15.0 NaT NaT NaT   \n",
       "6      20.0                 20           8.0 NaT NaT NaT   \n",
       "\n",
       "                     Time    Status Points  Laps  \n",
       "81 0 days 01:25:22.601000  Finished   25.0  44.0  \n",
       "4  0 days 00:00:03.415000  Finished   18.0  44.0  \n",
       "16 0 days 00:00:20.185000  Finished   15.0  44.0  \n",
       "1  0 days 00:00:21.731000  Finished   12.0  44.0  \n",
       "63 0 days 00:00:34.863000  Finished   10.0  44.0  \n",
       "23 0 days 00:00:39.926000  Finished    8.0  44.0  \n",
       "44 0 days 00:00:40.679000  Finished    6.0  44.0  \n",
       "30 0 days 00:00:52.033000  Finished    4.0  44.0  \n",
       "5  0 days 00:00:56.434000  Finished    2.0  44.0  \n",
       "10 0 days 00:01:12.714000  Finished    1.0  44.0  \n",
       "87 0 days 00:01:13.145000  Finished    0.0  44.0  \n",
       "27 0 days 00:01:13.628000  Finished    0.0  44.0  \n",
       "22 0 days 00:01:15.395000  Finished    0.0  44.0  \n",
       "18 0 days 00:01:19.831000  Finished    0.0  44.0  \n",
       "31 0 days 00:01:26.063000  Finished    0.0  44.0  \n",
       "12 0 days 00:01:26.721000  Finished    0.0  44.0  \n",
       "14 0 days 00:01:27.924000  Finished    0.0  44.0  \n",
       "55 0 days 00:01:32.024000  Finished    0.0  44.0  \n",
       "43 0 days 00:01:35.250000  Finished    0.0  44.0  \n",
       "6  0 days 00:00:12.942000    Lapped    0.0  43.0  \n",
       "\n",
       "[20 rows x 22 columns]>"
      ]
     },
     "execution_count": 358,
     "metadata": {},
     "output_type": "execute_result"
    }
   ],
   "source": [
    "result.info"
   ]
  },
  {
   "cell_type": "markdown",
   "id": "661fd0dc",
   "metadata": {},
   "source": [
    "**Create and Filter the table**"
   ]
  },
  {
   "cell_type": "code",
   "execution_count": 359,
   "id": "f98070a0",
   "metadata": {},
   "outputs": [],
   "source": [
    "table = result[['Position','DriverNumber', 'FullName','TeamName', 'Laps', 'Time', 'Points']]"
   ]
  },
  {
   "cell_type": "markdown",
   "id": "e1bb10e5",
   "metadata": {},
   "source": [
    "**Create a copy to prevent problem to the original Data Frame**"
   ]
  },
  {
   "cell_type": "code",
   "execution_count": null,
   "id": "16fcb4ff",
   "metadata": {},
   "outputs": [],
   "source": [
    "table_copy = table.copy()"
   ]
  },
  {
   "cell_type": "markdown",
   "id": "2f01dd5f",
   "metadata": {},
   "source": [
    "**Make the Position Integer**"
   ]
  },
  {
   "cell_type": "code",
   "execution_count": null,
   "id": "7046239e",
   "metadata": {},
   "outputs": [],
   "source": [
    "table_copy['Position'] = table['Position'].astype(int) # From Float to Integer"
   ]
  },
  {
   "cell_type": "markdown",
   "id": "2bfaa8f3",
   "metadata": {},
   "source": [
    "**Clean the time format**"
   ]
  },
  {
   "cell_type": "code",
   "execution_count": 362,
   "id": "c9b9b259",
   "metadata": {},
   "outputs": [],
   "source": [
    "table_copy['Time'] = table['Time'].apply(lambda x: str(x).split(' ')[-1][:12])  # Format as HH:MM:SS.sss"
   ]
  },
  {
   "cell_type": "markdown",
   "id": "b760ce51",
   "metadata": {},
   "source": [
    "**Show the result**"
   ]
  },
  {
   "cell_type": "code",
   "execution_count": 363,
   "id": "16ddfbee",
   "metadata": {},
   "outputs": [
    {
     "data": {
      "text/html": [
       "<div>\n",
       "<style scoped>\n",
       "    .dataframe tbody tr th:only-of-type {\n",
       "        vertical-align: middle;\n",
       "    }\n",
       "\n",
       "    .dataframe tbody tr th {\n",
       "        vertical-align: top;\n",
       "    }\n",
       "\n",
       "    .dataframe thead th {\n",
       "        text-align: right;\n",
       "    }\n",
       "</style>\n",
       "<table border=\"1\" class=\"dataframe\">\n",
       "  <thead>\n",
       "    <tr style=\"text-align: right;\">\n",
       "      <th></th>\n",
       "      <th>Position</th>\n",
       "      <th>DriverNumber</th>\n",
       "      <th>FullName</th>\n",
       "      <th>TeamName</th>\n",
       "      <th>Laps</th>\n",
       "      <th>Time</th>\n",
       "      <th>Points</th>\n",
       "    </tr>\n",
       "  </thead>\n",
       "  <tbody>\n",
       "    <tr>\n",
       "      <th>81</th>\n",
       "      <td>1</td>\n",
       "      <td>81</td>\n",
       "      <td>Oscar Piastri</td>\n",
       "      <td>McLaren</td>\n",
       "      <td>44.0</td>\n",
       "      <td>01:25:22.601</td>\n",
       "      <td>25.0</td>\n",
       "    </tr>\n",
       "    <tr>\n",
       "      <th>4</th>\n",
       "      <td>2</td>\n",
       "      <td>4</td>\n",
       "      <td>Lando Norris</td>\n",
       "      <td>McLaren</td>\n",
       "      <td>44.0</td>\n",
       "      <td>00:00:03.415</td>\n",
       "      <td>18.0</td>\n",
       "    </tr>\n",
       "    <tr>\n",
       "      <th>16</th>\n",
       "      <td>3</td>\n",
       "      <td>16</td>\n",
       "      <td>Charles Leclerc</td>\n",
       "      <td>Ferrari</td>\n",
       "      <td>44.0</td>\n",
       "      <td>00:00:20.185</td>\n",
       "      <td>15.0</td>\n",
       "    </tr>\n",
       "    <tr>\n",
       "      <th>1</th>\n",
       "      <td>4</td>\n",
       "      <td>1</td>\n",
       "      <td>Max Verstappen</td>\n",
       "      <td>Red Bull Racing</td>\n",
       "      <td>44.0</td>\n",
       "      <td>00:00:21.731</td>\n",
       "      <td>12.0</td>\n",
       "    </tr>\n",
       "    <tr>\n",
       "      <th>63</th>\n",
       "      <td>5</td>\n",
       "      <td>63</td>\n",
       "      <td>George Russell</td>\n",
       "      <td>Mercedes</td>\n",
       "      <td>44.0</td>\n",
       "      <td>00:00:34.863</td>\n",
       "      <td>10.0</td>\n",
       "    </tr>\n",
       "    <tr>\n",
       "      <th>23</th>\n",
       "      <td>6</td>\n",
       "      <td>23</td>\n",
       "      <td>Alexander Albon</td>\n",
       "      <td>Williams</td>\n",
       "      <td>44.0</td>\n",
       "      <td>00:00:39.926</td>\n",
       "      <td>8.0</td>\n",
       "    </tr>\n",
       "    <tr>\n",
       "      <th>44</th>\n",
       "      <td>7</td>\n",
       "      <td>44</td>\n",
       "      <td>Lewis Hamilton</td>\n",
       "      <td>Ferrari</td>\n",
       "      <td>44.0</td>\n",
       "      <td>00:00:40.679</td>\n",
       "      <td>6.0</td>\n",
       "    </tr>\n",
       "    <tr>\n",
       "      <th>30</th>\n",
       "      <td>8</td>\n",
       "      <td>30</td>\n",
       "      <td>Liam Lawson</td>\n",
       "      <td>Racing Bulls</td>\n",
       "      <td>44.0</td>\n",
       "      <td>00:00:52.033</td>\n",
       "      <td>4.0</td>\n",
       "    </tr>\n",
       "    <tr>\n",
       "      <th>5</th>\n",
       "      <td>9</td>\n",
       "      <td>5</td>\n",
       "      <td>Gabriel Bortoleto</td>\n",
       "      <td>Kick Sauber</td>\n",
       "      <td>44.0</td>\n",
       "      <td>00:00:56.434</td>\n",
       "      <td>2.0</td>\n",
       "    </tr>\n",
       "    <tr>\n",
       "      <th>10</th>\n",
       "      <td>10</td>\n",
       "      <td>10</td>\n",
       "      <td>Pierre Gasly</td>\n",
       "      <td>Alpine</td>\n",
       "      <td>44.0</td>\n",
       "      <td>00:01:12.714</td>\n",
       "      <td>1.0</td>\n",
       "    </tr>\n",
       "    <tr>\n",
       "      <th>87</th>\n",
       "      <td>11</td>\n",
       "      <td>87</td>\n",
       "      <td>Oliver Bearman</td>\n",
       "      <td>Haas F1 Team</td>\n",
       "      <td>44.0</td>\n",
       "      <td>00:01:13.145</td>\n",
       "      <td>0.0</td>\n",
       "    </tr>\n",
       "    <tr>\n",
       "      <th>27</th>\n",
       "      <td>12</td>\n",
       "      <td>27</td>\n",
       "      <td>Nico Hulkenberg</td>\n",
       "      <td>Kick Sauber</td>\n",
       "      <td>44.0</td>\n",
       "      <td>00:01:13.628</td>\n",
       "      <td>0.0</td>\n",
       "    </tr>\n",
       "    <tr>\n",
       "      <th>22</th>\n",
       "      <td>13</td>\n",
       "      <td>22</td>\n",
       "      <td>Yuki Tsunoda</td>\n",
       "      <td>Red Bull Racing</td>\n",
       "      <td>44.0</td>\n",
       "      <td>00:01:15.395</td>\n",
       "      <td>0.0</td>\n",
       "    </tr>\n",
       "    <tr>\n",
       "      <th>18</th>\n",
       "      <td>14</td>\n",
       "      <td>18</td>\n",
       "      <td>Lance Stroll</td>\n",
       "      <td>Aston Martin</td>\n",
       "      <td>44.0</td>\n",
       "      <td>00:01:19.831</td>\n",
       "      <td>0.0</td>\n",
       "    </tr>\n",
       "    <tr>\n",
       "      <th>31</th>\n",
       "      <td>15</td>\n",
       "      <td>31</td>\n",
       "      <td>Esteban Ocon</td>\n",
       "      <td>Haas F1 Team</td>\n",
       "      <td>44.0</td>\n",
       "      <td>00:01:26.063</td>\n",
       "      <td>0.0</td>\n",
       "    </tr>\n",
       "    <tr>\n",
       "      <th>12</th>\n",
       "      <td>16</td>\n",
       "      <td>12</td>\n",
       "      <td>Kimi Antonelli</td>\n",
       "      <td>Mercedes</td>\n",
       "      <td>44.0</td>\n",
       "      <td>00:01:26.721</td>\n",
       "      <td>0.0</td>\n",
       "    </tr>\n",
       "    <tr>\n",
       "      <th>14</th>\n",
       "      <td>17</td>\n",
       "      <td>14</td>\n",
       "      <td>Fernando Alonso</td>\n",
       "      <td>Aston Martin</td>\n",
       "      <td>44.0</td>\n",
       "      <td>00:01:27.924</td>\n",
       "      <td>0.0</td>\n",
       "    </tr>\n",
       "    <tr>\n",
       "      <th>55</th>\n",
       "      <td>18</td>\n",
       "      <td>55</td>\n",
       "      <td>Carlos Sainz</td>\n",
       "      <td>Williams</td>\n",
       "      <td>44.0</td>\n",
       "      <td>00:01:32.024</td>\n",
       "      <td>0.0</td>\n",
       "    </tr>\n",
       "    <tr>\n",
       "      <th>43</th>\n",
       "      <td>19</td>\n",
       "      <td>43</td>\n",
       "      <td>Franco Colapinto</td>\n",
       "      <td>Alpine</td>\n",
       "      <td>44.0</td>\n",
       "      <td>00:01:35.250</td>\n",
       "      <td>0.0</td>\n",
       "    </tr>\n",
       "    <tr>\n",
       "      <th>6</th>\n",
       "      <td>20</td>\n",
       "      <td>6</td>\n",
       "      <td>Isack Hadjar</td>\n",
       "      <td>Racing Bulls</td>\n",
       "      <td>43.0</td>\n",
       "      <td>00:00:12.942</td>\n",
       "      <td>0.0</td>\n",
       "    </tr>\n",
       "  </tbody>\n",
       "</table>\n",
       "</div>"
      ],
      "text/plain": [
       "    Position DriverNumber           FullName         TeamName  Laps  \\\n",
       "81         1           81      Oscar Piastri          McLaren  44.0   \n",
       "4          2            4       Lando Norris          McLaren  44.0   \n",
       "16         3           16    Charles Leclerc          Ferrari  44.0   \n",
       "1          4            1     Max Verstappen  Red Bull Racing  44.0   \n",
       "63         5           63     George Russell         Mercedes  44.0   \n",
       "23         6           23    Alexander Albon         Williams  44.0   \n",
       "44         7           44     Lewis Hamilton          Ferrari  44.0   \n",
       "30         8           30        Liam Lawson     Racing Bulls  44.0   \n",
       "5          9            5  Gabriel Bortoleto      Kick Sauber  44.0   \n",
       "10        10           10       Pierre Gasly           Alpine  44.0   \n",
       "87        11           87     Oliver Bearman     Haas F1 Team  44.0   \n",
       "27        12           27    Nico Hulkenberg      Kick Sauber  44.0   \n",
       "22        13           22       Yuki Tsunoda  Red Bull Racing  44.0   \n",
       "18        14           18       Lance Stroll     Aston Martin  44.0   \n",
       "31        15           31       Esteban Ocon     Haas F1 Team  44.0   \n",
       "12        16           12     Kimi Antonelli         Mercedes  44.0   \n",
       "14        17           14    Fernando Alonso     Aston Martin  44.0   \n",
       "55        18           55       Carlos Sainz         Williams  44.0   \n",
       "43        19           43   Franco Colapinto           Alpine  44.0   \n",
       "6         20            6       Isack Hadjar     Racing Bulls  43.0   \n",
       "\n",
       "            Time  Points  \n",
       "81  01:25:22.601    25.0  \n",
       "4   00:00:03.415    18.0  \n",
       "16  00:00:20.185    15.0  \n",
       "1   00:00:21.731    12.0  \n",
       "63  00:00:34.863    10.0  \n",
       "23  00:00:39.926     8.0  \n",
       "44  00:00:40.679     6.0  \n",
       "30  00:00:52.033     4.0  \n",
       "5   00:00:56.434     2.0  \n",
       "10  00:01:12.714     1.0  \n",
       "87  00:01:13.145     0.0  \n",
       "27  00:01:13.628     0.0  \n",
       "22  00:01:15.395     0.0  \n",
       "18  00:01:19.831     0.0  \n",
       "31  00:01:26.063     0.0  \n",
       "12  00:01:26.721     0.0  \n",
       "14  00:01:27.924     0.0  \n",
       "55  00:01:32.024     0.0  \n",
       "43  00:01:35.250     0.0  \n",
       "6   00:00:12.942     0.0  "
      ]
     },
     "execution_count": 363,
     "metadata": {},
     "output_type": "execute_result"
    }
   ],
   "source": [
    "table_copy"
   ]
  },
  {
   "cell_type": "markdown",
   "id": "59893e17",
   "metadata": {},
   "source": [
    "**Convert the table into CSV file**"
   ]
  },
  {
   "cell_type": "code",
   "execution_count": null,
   "id": "30b475be",
   "metadata": {},
   "outputs": [],
   "source": [
    "table_copy.to_csv('race_results.csv', index=False) #In file: race_results.csv"
   ]
  }
 ],
 "metadata": {
  "kernelspec": {
   "display_name": "f1env",
   "language": "python",
   "name": "python3"
  },
  "language_info": {
   "codemirror_mode": {
    "name": "ipython",
    "version": 3
   },
   "file_extension": ".py",
   "mimetype": "text/x-python",
   "name": "python",
   "nbconvert_exporter": "python",
   "pygments_lexer": "ipython3",
   "version": "3.13.5"
  }
 },
 "nbformat": 4,
 "nbformat_minor": 5
}
